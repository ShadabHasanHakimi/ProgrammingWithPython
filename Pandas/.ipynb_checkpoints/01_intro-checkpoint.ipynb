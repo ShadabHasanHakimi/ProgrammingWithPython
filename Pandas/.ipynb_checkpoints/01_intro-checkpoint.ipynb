{
 "cells": [
  {
   "cell_type": "code",
   "execution_count": 3,
   "id": "7d8cb6c0-eef9-4a4a-9a3b-9bdc936a4443",
   "metadata": {},
   "outputs": [],
   "source": [
    "import pandas as pd\n",
    "import numpy as np"
   ]
  },
  {
   "cell_type": "code",
   "execution_count": 4,
   "id": "451b25ec-1687-4b37-ac66-19d09546c16a",
   "metadata": {},
   "outputs": [],
   "source": [
    "# Pandas Series - Like a table comlumn - 1 D array holding any type of data"
   ]
  },
  {
   "cell_type": "code",
   "execution_count": 5,
   "id": "070437f8-685e-499a-804f-5c67d667f0c7",
   "metadata": {},
   "outputs": [
    {
     "data": {
      "text/plain": [
       "0    4\n",
       "1    2\n",
       "2    5\n",
       "3    1\n",
       "dtype: int64"
      ]
     },
     "execution_count": 5,
     "metadata": {},
     "output_type": "execute_result"
    }
   ],
   "source": [
    "my_series = [4, 2, 5, 1]\n",
    "my_var = pd.Series(my_series)\n",
    "my_var"
   ]
  },
  {
   "cell_type": "code",
   "execution_count": 8,
   "id": "ddc84b2d-f36f-4a75-9bc0-8df9c25fcc4b",
   "metadata": {},
   "outputs": [],
   "source": [
    "# Print specific value"
   ]
  },
  {
   "cell_type": "code",
   "execution_count": 9,
   "id": "00b758a4-43cc-47e3-9580-d4b3289443bb",
   "metadata": {},
   "outputs": [
    {
     "data": {
      "text/plain": [
       "np.int64(5)"
      ]
     },
     "execution_count": 9,
     "metadata": {},
     "output_type": "execute_result"
    }
   ],
   "source": [
    "my_var[2]"
   ]
  },
  {
   "cell_type": "code",
   "execution_count": 10,
   "id": "01a08d8c-efb9-414e-91a7-ed1ec4bcfff6",
   "metadata": {},
   "outputs": [],
   "source": [
    "# Changing Labels"
   ]
  },
  {
   "cell_type": "code",
   "execution_count": 15,
   "id": "8112f4da-b9aa-4e61-a3b8-a4c6bcddc25e",
   "metadata": {},
   "outputs": [
    {
     "data": {
      "text/plain": [
       "A    4\n",
       "B    2\n",
       "C    5\n",
       "D    1\n",
       "dtype: int64"
      ]
     },
     "execution_count": 15,
     "metadata": {},
     "output_type": "execute_result"
    }
   ],
   "source": [
    "my_index = [\"A\", \"B\", \"C\", \"D\"]\n",
    "my_var2 = pd.Series(my_series, my_index)\n",
    "my_var2"
   ]
  },
  {
   "cell_type": "code",
   "execution_count": 16,
   "id": "9889647e-33a5-4db1-b99c-d7b115935674",
   "metadata": {},
   "outputs": [
    {
     "data": {
      "text/plain": [
       "np.int64(5)"
      ]
     },
     "execution_count": 16,
     "metadata": {},
     "output_type": "execute_result"
    }
   ],
   "source": [
    "my_var2[\"C\"]"
   ]
  },
  {
   "cell_type": "code",
   "execution_count": 17,
   "id": "359bd5c3-e26f-4c56-975d-bf5ae0276681",
   "metadata": {},
   "outputs": [
    {
     "data": {
      "text/plain": [
       "np.int64(5)"
      ]
     },
     "execution_count": 17,
     "metadata": {},
     "output_type": "execute_result"
    }
   ],
   "source": [
    "my_var[2]"
   ]
  },
  {
   "cell_type": "code",
   "execution_count": 18,
   "id": "5965936b-7645-4ea8-82df-094a753d5ed1",
   "metadata": {},
   "outputs": [],
   "source": [
    "# using Dictionary"
   ]
  },
  {
   "cell_type": "code",
   "execution_count": 21,
   "id": "eaeb47f7-8883-466c-a038-b179f4056172",
   "metadata": {},
   "outputs": [
    {
     "data": {
      "text/plain": [
       "Tesla          3\n",
       "BMW            1\n",
       "Mercedes       4\n",
       "Audi           3\n",
       "Ford           5\n",
       "Lamborghini    2\n",
       "dtype: int64"
      ]
     },
     "execution_count": 21,
     "metadata": {},
     "output_type": "execute_result"
    }
   ],
   "source": [
    "myDict = {\"Tesla\": 3, \"BMW\": 1, \"Mercedes\": 4, \"Audi\": 3, \"Ford\": 5, \"Lamborghini\": 2}\n",
    "my_var3 = pd.Series(myDict)\n",
    "my_var3"
   ]
  },
  {
   "cell_type": "code",
   "execution_count": 23,
   "id": "d504831d-4631-4732-967d-9e535ccd6da9",
   "metadata": {},
   "outputs": [
    {
     "data": {
      "text/plain": [
       "np.int64(5)"
      ]
     },
     "execution_count": 23,
     "metadata": {},
     "output_type": "execute_result"
    }
   ],
   "source": [
    "my_var3[\"Ford\"]\n"
   ]
  },
  {
   "cell_type": "code",
   "execution_count": null,
   "id": "d2e4acc3-caea-450f-b256-6a7b5f15365c",
   "metadata": {},
   "outputs": [],
   "source": []
  }
 ],
 "metadata": {
  "kernelspec": {
   "display_name": "Python 3 (ipykernel)",
   "language": "python",
   "name": "python3"
  },
  "language_info": {
   "codemirror_mode": {
    "name": "ipython",
    "version": 3
   },
   "file_extension": ".py",
   "mimetype": "text/x-python",
   "name": "python",
   "nbconvert_exporter": "python",
   "pygments_lexer": "ipython3",
   "version": "3.12.3"
  }
 },
 "nbformat": 4,
 "nbformat_minor": 5
}
