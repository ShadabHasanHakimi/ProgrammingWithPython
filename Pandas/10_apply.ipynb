{
 "cells": [
  {
   "cell_type": "code",
   "execution_count": 1,
   "id": "0311fa44-9775-4782-9cf1-e212641abb41",
   "metadata": {},
   "outputs": [
    {
     "data": {
      "text/html": [
       "<div>\n",
       "<style scoped>\n",
       "    .dataframe tbody tr th:only-of-type {\n",
       "        vertical-align: middle;\n",
       "    }\n",
       "\n",
       "    .dataframe tbody tr th {\n",
       "        vertical-align: top;\n",
       "    }\n",
       "\n",
       "    .dataframe thead th {\n",
       "        text-align: right;\n",
       "    }\n",
       "</style>\n",
       "<table border=\"1\" class=\"dataframe\">\n",
       "  <thead>\n",
       "    <tr style=\"text-align: right;\">\n",
       "      <th></th>\n",
       "      <th>Corporation</th>\n",
       "      <th>Employees</th>\n",
       "      <th>Salary</th>\n",
       "    </tr>\n",
       "  </thead>\n",
       "  <tbody>\n",
       "    <tr>\n",
       "      <th>0</th>\n",
       "      <td>Apple</td>\n",
       "      <td>John</td>\n",
       "      <td>200</td>\n",
       "    </tr>\n",
       "    <tr>\n",
       "      <th>1</th>\n",
       "      <td>Google</td>\n",
       "      <td>Shadab</td>\n",
       "      <td>220</td>\n",
       "    </tr>\n",
       "    <tr>\n",
       "      <th>2</th>\n",
       "      <td>Meta</td>\n",
       "      <td>Wes</td>\n",
       "      <td>190</td>\n",
       "    </tr>\n",
       "    <tr>\n",
       "      <th>3</th>\n",
       "      <td>Apple</td>\n",
       "      <td>Beth</td>\n",
       "      <td>130</td>\n",
       "    </tr>\n",
       "    <tr>\n",
       "      <th>4</th>\n",
       "      <td>Google</td>\n",
       "      <td>Justin</td>\n",
       "      <td>120</td>\n",
       "    </tr>\n",
       "    <tr>\n",
       "      <th>5</th>\n",
       "      <td>Meta</td>\n",
       "      <td>Steph</td>\n",
       "      <td>150</td>\n",
       "    </tr>\n",
       "  </tbody>\n",
       "</table>\n",
       "</div>"
      ],
      "text/plain": [
       "  Corporation Employees  Salary\n",
       "0       Apple      John     200\n",
       "1      Google    Shadab     220\n",
       "2        Meta       Wes     190\n",
       "3       Apple      Beth     130\n",
       "4      Google    Justin     120\n",
       "5        Meta     Steph     150"
      ]
     },
     "execution_count": 1,
     "metadata": {},
     "output_type": "execute_result"
    }
   ],
   "source": [
    "import pandas as pd\n",
    "import numpy as np\n",
    "# create data\n",
    "stuff = {\n",
    "    \"Corporation\":['Apple', 'Google', 'Meta', 'Apple', 'Google', 'Meta'],\n",
    "    \"Employees\": ['John', 'Shadab', 'Wes', 'Beth', 'Justin', 'Steph'],\n",
    "    \"Salary\": [200, 220, 190, 130, 120, 150]\n",
    "}\n",
    "# create dataframe\n",
    "my_df = pd.DataFrame(stuff)\n",
    "my_df"
   ]
  },
  {
   "cell_type": "code",
   "execution_count": 10,
   "id": "4f55fc0a-914f-4de8-9d8c-76ac75c465dd",
   "metadata": {},
   "outputs": [],
   "source": [
    "# Create function\n",
    "# format() is for commas\n",
    "def times1000(x):\n",
    "    return format(x*1000, \",d\")"
   ]
  },
  {
   "cell_type": "code",
   "execution_count": 11,
   "id": "46691bca-93e8-42ec-8849-907f7c4b32d8",
   "metadata": {},
   "outputs": [
    {
     "data": {
      "text/plain": [
       "0    200,000\n",
       "1    220,000\n",
       "2    190,000\n",
       "3    130,000\n",
       "4    120,000\n",
       "5    150,000\n",
       "Name: Salary, dtype: object"
      ]
     },
     "execution_count": 11,
     "metadata": {},
     "output_type": "execute_result"
    }
   ],
   "source": [
    "# use apply function\n",
    "my_df[\"Salary\"].apply(times1000)"
   ]
  },
  {
   "cell_type": "code",
   "execution_count": 12,
   "id": "ac69c31b-0b88-471b-9236-c5895b0866cb",
   "metadata": {},
   "outputs": [
    {
     "data": {
      "text/html": [
       "<div>\n",
       "<style scoped>\n",
       "    .dataframe tbody tr th:only-of-type {\n",
       "        vertical-align: middle;\n",
       "    }\n",
       "\n",
       "    .dataframe tbody tr th {\n",
       "        vertical-align: top;\n",
       "    }\n",
       "\n",
       "    .dataframe thead th {\n",
       "        text-align: right;\n",
       "    }\n",
       "</style>\n",
       "<table border=\"1\" class=\"dataframe\">\n",
       "  <thead>\n",
       "    <tr style=\"text-align: right;\">\n",
       "      <th></th>\n",
       "      <th>Salary</th>\n",
       "    </tr>\n",
       "  </thead>\n",
       "  <tbody>\n",
       "    <tr>\n",
       "      <th>0</th>\n",
       "      <td>200,000</td>\n",
       "    </tr>\n",
       "    <tr>\n",
       "      <th>1</th>\n",
       "      <td>220,000</td>\n",
       "    </tr>\n",
       "    <tr>\n",
       "      <th>2</th>\n",
       "      <td>190,000</td>\n",
       "    </tr>\n",
       "    <tr>\n",
       "      <th>3</th>\n",
       "      <td>130,000</td>\n",
       "    </tr>\n",
       "    <tr>\n",
       "      <th>4</th>\n",
       "      <td>120,000</td>\n",
       "    </tr>\n",
       "    <tr>\n",
       "      <th>5</th>\n",
       "      <td>150,000</td>\n",
       "    </tr>\n",
       "  </tbody>\n",
       "</table>\n",
       "</div>"
      ],
      "text/plain": [
       "    Salary\n",
       "0  200,000\n",
       "1  220,000\n",
       "2  190,000\n",
       "3  130,000\n",
       "4  120,000\n",
       "5  150,000"
      ]
     },
     "execution_count": 12,
     "metadata": {},
     "output_type": "execute_result"
    }
   ],
   "source": [
    "# make it into a dataframe\n",
    "pd.DataFrame(my_df[\"Salary\"].apply(times1000))"
   ]
  },
  {
   "cell_type": "code",
   "execution_count": 14,
   "id": "3b0a9c99-4593-42b3-aa47-98d9f726b18c",
   "metadata": {},
   "outputs": [],
   "source": [
    "# Add last name\n",
    "def namer(x):\n",
    "    if x==\"Shadab\":\n",
    "        return \"Shadab Hasan\"\n",
    "    else:\n",
    "        return \"Not important\""
   ]
  },
  {
   "cell_type": "code",
   "execution_count": 15,
   "id": "8c94967e-ddc3-46b0-bd8b-d51c8fb1e109",
   "metadata": {},
   "outputs": [
    {
     "data": {
      "text/plain": [
       "0    Not important\n",
       "1     Shadab Hasan\n",
       "2    Not important\n",
       "3    Not important\n",
       "4    Not important\n",
       "5    Not important\n",
       "Name: Employees, dtype: object"
      ]
     },
     "execution_count": 15,
     "metadata": {},
     "output_type": "execute_result"
    }
   ],
   "source": [
    "my_df[\"Employees\"].apply(namer)"
   ]
  },
  {
   "cell_type": "code",
   "execution_count": 17,
   "id": "cc5bb8d2-2b05-48fd-b260-eac417effc3f",
   "metadata": {},
   "outputs": [
    {
     "data": {
      "text/html": [
       "<div>\n",
       "<style scoped>\n",
       "    .dataframe tbody tr th:only-of-type {\n",
       "        vertical-align: middle;\n",
       "    }\n",
       "\n",
       "    .dataframe tbody tr th {\n",
       "        vertical-align: top;\n",
       "    }\n",
       "\n",
       "    .dataframe thead th {\n",
       "        text-align: right;\n",
       "    }\n",
       "</style>\n",
       "<table border=\"1\" class=\"dataframe\">\n",
       "  <thead>\n",
       "    <tr style=\"text-align: right;\">\n",
       "      <th></th>\n",
       "      <th>Salary</th>\n",
       "    </tr>\n",
       "  </thead>\n",
       "  <tbody>\n",
       "    <tr>\n",
       "      <th>0</th>\n",
       "      <td>200,000</td>\n",
       "    </tr>\n",
       "    <tr>\n",
       "      <th>1</th>\n",
       "      <td>220,000</td>\n",
       "    </tr>\n",
       "    <tr>\n",
       "      <th>2</th>\n",
       "      <td>190,000</td>\n",
       "    </tr>\n",
       "    <tr>\n",
       "      <th>3</th>\n",
       "      <td>130,000</td>\n",
       "    </tr>\n",
       "    <tr>\n",
       "      <th>4</th>\n",
       "      <td>120,000</td>\n",
       "    </tr>\n",
       "    <tr>\n",
       "      <th>5</th>\n",
       "      <td>150,000</td>\n",
       "    </tr>\n",
       "  </tbody>\n",
       "</table>\n",
       "</div>"
      ],
      "text/plain": [
       "    Salary\n",
       "0  200,000\n",
       "1  220,000\n",
       "2  190,000\n",
       "3  130,000\n",
       "4  120,000\n",
       "5  150,000"
      ]
     },
     "execution_count": 17,
     "metadata": {},
     "output_type": "execute_result"
    }
   ],
   "source": [
    "# use lambda\n",
    "pd.DataFrame(my_df[\"Salary\"].apply(lambda x: format(x*1000, \",d\")))"
   ]
  },
  {
   "cell_type": "code",
   "execution_count": 18,
   "id": "fa895351-4c2d-4831-9e36-6d50812599f8",
   "metadata": {},
   "outputs": [
    {
     "data": {
      "text/html": [
       "<div>\n",
       "<style scoped>\n",
       "    .dataframe tbody tr th:only-of-type {\n",
       "        vertical-align: middle;\n",
       "    }\n",
       "\n",
       "    .dataframe tbody tr th {\n",
       "        vertical-align: top;\n",
       "    }\n",
       "\n",
       "    .dataframe thead th {\n",
       "        text-align: right;\n",
       "    }\n",
       "</style>\n",
       "<table border=\"1\" class=\"dataframe\">\n",
       "  <thead>\n",
       "    <tr style=\"text-align: right;\">\n",
       "      <th></th>\n",
       "      <th>Corporation</th>\n",
       "      <th>Employees</th>\n",
       "      <th>Salary</th>\n",
       "    </tr>\n",
       "  </thead>\n",
       "  <tbody>\n",
       "    <tr>\n",
       "      <th>0</th>\n",
       "      <td>Apple</td>\n",
       "      <td>John</td>\n",
       "      <td>200,000</td>\n",
       "    </tr>\n",
       "    <tr>\n",
       "      <th>1</th>\n",
       "      <td>Google</td>\n",
       "      <td>Shadab</td>\n",
       "      <td>220,000</td>\n",
       "    </tr>\n",
       "    <tr>\n",
       "      <th>2</th>\n",
       "      <td>Meta</td>\n",
       "      <td>Wes</td>\n",
       "      <td>190,000</td>\n",
       "    </tr>\n",
       "    <tr>\n",
       "      <th>3</th>\n",
       "      <td>Apple</td>\n",
       "      <td>Beth</td>\n",
       "      <td>130,000</td>\n",
       "    </tr>\n",
       "    <tr>\n",
       "      <th>4</th>\n",
       "      <td>Google</td>\n",
       "      <td>Justin</td>\n",
       "      <td>120,000</td>\n",
       "    </tr>\n",
       "    <tr>\n",
       "      <th>5</th>\n",
       "      <td>Meta</td>\n",
       "      <td>Steph</td>\n",
       "      <td>150,000</td>\n",
       "    </tr>\n",
       "  </tbody>\n",
       "</table>\n",
       "</div>"
      ],
      "text/plain": [
       "  Corporation Employees   Salary\n",
       "0       Apple      John  200,000\n",
       "1      Google    Shadab  220,000\n",
       "2        Meta       Wes  190,000\n",
       "3       Apple      Beth  130,000\n",
       "4      Google    Justin  120,000\n",
       "5        Meta     Steph  150,000"
      ]
     },
     "execution_count": 18,
     "metadata": {},
     "output_type": "execute_result"
    }
   ],
   "source": [
    "# append to current df\n",
    "my_df[\"Salary\"] = my_df[\"Salary\"].apply(times1000)\n",
    "my_df"
   ]
  },
  {
   "cell_type": "code",
   "execution_count": 19,
   "id": "ff63fef6-e0e2-4129-8f4d-f19761f0f19f",
   "metadata": {},
   "outputs": [],
   "source": [
    "# function on multiple columns\n",
    "def nameadder(x):\n",
    "    return \"Go \" + x\n"
   ]
  },
  {
   "cell_type": "code",
   "execution_count": 21,
   "id": "5334ac60-e0e6-446a-8e8d-c9814012ae46",
   "metadata": {},
   "outputs": [
    {
     "data": {
      "text/html": [
       "<div>\n",
       "<style scoped>\n",
       "    .dataframe tbody tr th:only-of-type {\n",
       "        vertical-align: middle;\n",
       "    }\n",
       "\n",
       "    .dataframe tbody tr th {\n",
       "        vertical-align: top;\n",
       "    }\n",
       "\n",
       "    .dataframe thead th {\n",
       "        text-align: right;\n",
       "    }\n",
       "</style>\n",
       "<table border=\"1\" class=\"dataframe\">\n",
       "  <thead>\n",
       "    <tr style=\"text-align: right;\">\n",
       "      <th></th>\n",
       "      <th>Corporation</th>\n",
       "      <th>Employees</th>\n",
       "    </tr>\n",
       "  </thead>\n",
       "  <tbody>\n",
       "    <tr>\n",
       "      <th>0</th>\n",
       "      <td>Go Apple</td>\n",
       "      <td>Go John</td>\n",
       "    </tr>\n",
       "    <tr>\n",
       "      <th>1</th>\n",
       "      <td>Go Google</td>\n",
       "      <td>Go Shadab</td>\n",
       "    </tr>\n",
       "    <tr>\n",
       "      <th>2</th>\n",
       "      <td>Go Meta</td>\n",
       "      <td>Go Wes</td>\n",
       "    </tr>\n",
       "    <tr>\n",
       "      <th>3</th>\n",
       "      <td>Go Apple</td>\n",
       "      <td>Go Beth</td>\n",
       "    </tr>\n",
       "    <tr>\n",
       "      <th>4</th>\n",
       "      <td>Go Google</td>\n",
       "      <td>Go Justin</td>\n",
       "    </tr>\n",
       "    <tr>\n",
       "      <th>5</th>\n",
       "      <td>Go Meta</td>\n",
       "      <td>Go Steph</td>\n",
       "    </tr>\n",
       "  </tbody>\n",
       "</table>\n",
       "</div>"
      ],
      "text/plain": [
       "  Corporation  Employees\n",
       "0    Go Apple    Go John\n",
       "1   Go Google  Go Shadab\n",
       "2     Go Meta     Go Wes\n",
       "3    Go Apple    Go Beth\n",
       "4   Go Google  Go Justin\n",
       "5     Go Meta   Go Steph"
      ]
     },
     "execution_count": 21,
     "metadata": {},
     "output_type": "execute_result"
    }
   ],
   "source": [
    "my_df[[\"Corporation\", \"Employees\"]].apply(nameadder)"
   ]
  },
  {
   "cell_type": "code",
   "execution_count": 24,
   "id": "17d3135b-30fe-4d29-9037-ee5d7483855f",
   "metadata": {},
   "outputs": [
    {
     "data": {
      "text/html": [
       "<div>\n",
       "<style scoped>\n",
       "    .dataframe tbody tr th:only-of-type {\n",
       "        vertical-align: middle;\n",
       "    }\n",
       "\n",
       "    .dataframe tbody tr th {\n",
       "        vertical-align: top;\n",
       "    }\n",
       "\n",
       "    .dataframe thead th {\n",
       "        text-align: right;\n",
       "    }\n",
       "</style>\n",
       "<table border=\"1\" class=\"dataframe\">\n",
       "  <thead>\n",
       "    <tr style=\"text-align: right;\">\n",
       "      <th></th>\n",
       "      <th>Corporation</th>\n",
       "      <th>Employees</th>\n",
       "      <th>Salary</th>\n",
       "    </tr>\n",
       "  </thead>\n",
       "  <tbody>\n",
       "    <tr>\n",
       "      <th>0</th>\n",
       "      <td>Go Go Go Apple</td>\n",
       "      <td>Go Go Go John</td>\n",
       "      <td>200,000</td>\n",
       "    </tr>\n",
       "    <tr>\n",
       "      <th>1</th>\n",
       "      <td>Go Go Go Google</td>\n",
       "      <td>Go Go Go Shadab</td>\n",
       "      <td>220,000</td>\n",
       "    </tr>\n",
       "    <tr>\n",
       "      <th>2</th>\n",
       "      <td>Go Go Go Meta</td>\n",
       "      <td>Go Go Go Wes</td>\n",
       "      <td>190,000</td>\n",
       "    </tr>\n",
       "    <tr>\n",
       "      <th>3</th>\n",
       "      <td>Go Go Go Apple</td>\n",
       "      <td>Go Go Go Beth</td>\n",
       "      <td>130,000</td>\n",
       "    </tr>\n",
       "    <tr>\n",
       "      <th>4</th>\n",
       "      <td>Go Go Go Google</td>\n",
       "      <td>Go Go Go Justin</td>\n",
       "      <td>120,000</td>\n",
       "    </tr>\n",
       "    <tr>\n",
       "      <th>5</th>\n",
       "      <td>Go Go Go Meta</td>\n",
       "      <td>Go Go Go Steph</td>\n",
       "      <td>150,000</td>\n",
       "    </tr>\n",
       "  </tbody>\n",
       "</table>\n",
       "</div>"
      ],
      "text/plain": [
       "       Corporation        Employees   Salary\n",
       "0   Go Go Go Apple    Go Go Go John  200,000\n",
       "1  Go Go Go Google  Go Go Go Shadab  220,000\n",
       "2    Go Go Go Meta     Go Go Go Wes  190,000\n",
       "3   Go Go Go Apple    Go Go Go Beth  130,000\n",
       "4  Go Go Go Google  Go Go Go Justin  120,000\n",
       "5    Go Go Go Meta   Go Go Go Steph  150,000"
      ]
     },
     "execution_count": 24,
     "metadata": {},
     "output_type": "execute_result"
    }
   ],
   "source": [
    "# apply to current df\n",
    "my_df[[\"Corporation\", \"Employees\"]] = my_df[[\"Corporation\", \"Employees\"]].apply(nameadder)\n",
    "my_df"
   ]
  },
  {
   "cell_type": "code",
   "execution_count": null,
   "id": "cfa5674a-de9f-484a-ab26-7009ec12fb46",
   "metadata": {},
   "outputs": [],
   "source": []
  }
 ],
 "metadata": {
  "kernelspec": {
   "display_name": "Python 3 (ipykernel)",
   "language": "python",
   "name": "python3"
  },
  "language_info": {
   "codemirror_mode": {
    "name": "ipython",
    "version": 3
   },
   "file_extension": ".py",
   "mimetype": "text/x-python",
   "name": "python",
   "nbconvert_exporter": "python",
   "pygments_lexer": "ipython3",
   "version": "3.12.3"
  }
 },
 "nbformat": 4,
 "nbformat_minor": 5
}
