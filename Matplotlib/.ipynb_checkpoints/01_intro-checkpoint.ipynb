{
 "cells": [
  {
   "cell_type": "code",
   "execution_count": null,
   "id": "25cc2a4d-2781-422d-8772-b490e6b4a169",
   "metadata": {},
   "outputs": [],
   "source": [
    "%matplotlib ipympl\n",
    "from matplotlib import pyplot as plt\n",
    "import pandas as pd\n",
    "import numpy as np\n",
    "\n",
    "# Creating data for x axis\n",
    "dev_x = [25, 26, 27, 28, 29, 30, 31, 32, 33, 34, 35]\n",
    "# for y axis\n",
    "dev_y = [38496, 42000, 46752, 49320, 53200,\n",
    "         56000, 62316, 64928, 67317, 68748, 73752]"
   ]
  },
  {
   "cell_type": "code",
   "execution_count": null,
   "id": "2105a4ab-3c9a-4c5e-9be3-726d3c915baa",
   "metadata": {},
   "outputs": [],
   "source": [
    "# plotting data\n",
    "plt.plot(dev_x, dev_y, label=\"All Devs\")\n",
    "plt.show()"
   ]
  },
  {
   "cell_type": "code",
   "execution_count": null,
   "id": "4200a7c8-c49a-41bc-a894-9eb03c318f90",
   "metadata": {},
   "outputs": [],
   "source": [
    "# Labelling the plot\n",
    "plt.title(\"Median Salary (USD) by Age\")\n",
    "plt.xlabel(\"Ages\")\n",
    "plt.ylabel(\"Median Salary (USD\")\n",
    "plt.show()"
   ]
  },
  {
   "cell_type": "code",
   "execution_count": null,
   "id": "45848140-1502-403e-bfe1-0a9698cba4de",
   "metadata": {},
   "outputs": [],
   "source": [
    "# Median Python Developer Salaries by Age\n",
    "py_dev_x = [25, 26, 27, 28, 29, 30, 31, 32, 33, 34, 35]\n",
    "py_dev_y = [45372, 48876, 53850, 57287, 63016,\n",
    "            65998, 70003, 70000, 71496, 75370, 83640]"
   ]
  },
  {
   "cell_type": "code",
   "execution_count": null,
   "id": "2b02f2b8-9a20-482e-bbad-61ead20d8ed0",
   "metadata": {},
   "outputs": [],
   "source": [
    "# Changing the style of the line\n",
    "# Format string page: \"https://matplotlib.org/stable/api/_as_gen/matplotlib.pyplot.plot.html\"\n",
    "plt.plot(py_dev_x, py_dev_y, 'k--', label=\"Python\")\n",
    "plt.show()"
   ]
  },
  {
   "cell_type": "code",
   "execution_count": null,
   "id": "6c2ecfd0-7112-4bc1-ad55-ee96c91e8181",
   "metadata": {},
   "outputs": [],
   "source": [
    "# another method\n",
    "plt.plot(dev_x, dev_y, color=\"g\", linestyle='--', label=\"All Devs\")\n",
    "plt.show()"
   ]
  },
  {
   "cell_type": "code",
   "execution_count": null,
   "id": "3ea02cc8-c0a9-4fe8-b493-c4ea41a4361c",
   "metadata": {},
   "outputs": [],
   "source": [
    "# markers\n",
    "plt.plot(py_dev_x, py_dev_y, 'k--', marker=\"o\", label=\"Python\")\n",
    "plt.plot(dev_x, dev_y, color=\"g\", linestyle='--', marker=\".\", label=\"All Devs\")\n",
    "plt.show()"
   ]
  },
  {
   "cell_type": "code",
   "execution_count": null,
   "id": "05706a36-aa1b-4d52-9b07-e90695875d93",
   "metadata": {},
   "outputs": [],
   "source": [
    "# we can also use hex colors\n",
    "plt.plot(dev_x, dev_y, color=\"#444444\", linestyle='--', marker=\".\", label=\"All Devs\")\n",
    "plt.plot(py_dev_x, py_dev_y, color=\"#5a7d9a\", linestyle='--', marker=\"o\", label=\"Python Devs\")\n",
    "plt.legend()\n",
    "# adding a grid\n",
    "plt.grid(True)\n",
    "plt.show()"
   ]
  },
  {
   "cell_type": "code",
   "execution_count": null,
   "id": "749ab463-22f4-46a0-9ef5-6c8db41199d7",
   "metadata": {},
   "outputs": [],
   "source": [
    "# Printing available styles and using it\n",
    "plt.plot(dev_x, dev_y, label=\"All Devs\")\n",
    "plt.plot(py_dev_x, py_dev_y, label=\"Python Devs\")\n",
    "plt.legend()\n",
    "plt.title(\"Median Salary (USD) by Age\")\n",
    "plt.xlabel(\"Ages\")\n",
    "plt.ylabel(\"Median Salary (USD)\")\n",
    "\n",
    "print(plt.style.available)\n",
    "plt.style.use('seaborn-v0_8-notebook')\n",
    "plt.show()"
   ]
  },
  {
   "cell_type": "code",
   "execution_count": null,
   "id": "7d0111a9-3700-4f02-adc0-0f90d2aa80c2",
   "metadata": {},
   "outputs": [],
   "source": [
    "plt.xkcd()\n",
    "plt.show()"
   ]
  },
  {
   "cell_type": "code",
   "execution_count": null,
   "id": "51b3b410-7e74-4de6-bd95-40b3d41f2b98",
   "metadata": {},
   "outputs": [],
   "source": []
  }
 ],
 "metadata": {
  "kernelspec": {
   "display_name": "Python 3 (ipykernel)",
   "language": "python",
   "name": "python3"
  },
  "language_info": {
   "codemirror_mode": {
    "name": "ipython",
    "version": 3
   },
   "file_extension": ".py",
   "mimetype": "text/x-python",
   "name": "python",
   "nbconvert_exporter": "python",
   "pygments_lexer": "ipython3",
   "version": "3.12.3"
  }
 },
 "nbformat": 4,
 "nbformat_minor": 5
}
